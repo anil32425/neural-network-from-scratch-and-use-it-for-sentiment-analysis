{
 "cells": [
  {
   "cell_type": "code",
   "execution_count": 1,
   "metadata": {},
   "outputs": [],
   "source": [
    "# Pandas : Pandas is a Python package providing fast, flexible, and expressive data structures designed to make working with “relational”or “labelled” data both easy and intuitive.\n",
    "# Matplotlib & Seaborn : These packages provide a high-level interface\n",
    "# BeautifulSoup : BeautifulSoup is  a Python library. It is used for parsing XML and HTML.\n",
    "# importing pandas package\n",
    "import pandas as pd\n",
    "# importing numpy package\n",
    "import numpy as np\n",
    "# importing matplotlib and seaborn packages\n",
    "import matplotlib.pyplot as plt\n",
    "# importing re package\n",
    "import re\n",
    "import seaborn as sns\n",
    "from bs4 import BeautifulSoup\n",
    "import warnings\n",
    "warnings.filterwarnings(\"ignore\")\n"
   ]
  },
  {
   "cell_type": "code",
   "execution_count": 2,
   "metadata": {},
   "outputs": [
    {
     "data": {
      "text/html": [
       "<div>\n",
       "<style scoped>\n",
       "    .dataframe tbody tr th:only-of-type {\n",
       "        vertical-align: middle;\n",
       "    }\n",
       "\n",
       "    .dataframe tbody tr th {\n",
       "        vertical-align: top;\n",
       "    }\n",
       "\n",
       "    .dataframe thead th {\n",
       "        text-align: right;\n",
       "    }\n",
       "</style>\n",
       "<table border=\"1\" class=\"dataframe\">\n",
       "  <thead>\n",
       "    <tr style=\"text-align: right;\">\n",
       "      <th></th>\n",
       "      <th>Unnamed: 0</th>\n",
       "      <th>rating</th>\n",
       "      <th>title</th>\n",
       "      <th>body</th>\n",
       "    </tr>\n",
       "  </thead>\n",
       "  <tbody>\n",
       "    <tr>\n",
       "      <th>0</th>\n",
       "      <td>22360</td>\n",
       "      <td>5</td>\n",
       "      <td>Five Stars</td>\n",
       "      <td>good product</td>\n",
       "    </tr>\n",
       "    <tr>\n",
       "      <th>1</th>\n",
       "      <td>17557</td>\n",
       "      <td>5</td>\n",
       "      <td>Five Stars</td>\n",
       "      <td>Excellent</td>\n",
       "    </tr>\n",
       "    <tr>\n",
       "      <th>2</th>\n",
       "      <td>36733</td>\n",
       "      <td>5</td>\n",
       "      <td>nice phone</td>\n",
       "      <td>works fine</td>\n",
       "    </tr>\n",
       "    <tr>\n",
       "      <th>3</th>\n",
       "      <td>47224</td>\n",
       "      <td>5</td>\n",
       "      <td>I got my Huawei Mate 10 Pro yesterday and love...</td>\n",
       "      <td>I got my Huawei Mate 10 Pro yesterday and love...</td>\n",
       "    </tr>\n",
       "    <tr>\n",
       "      <th>4</th>\n",
       "      <td>15230</td>\n",
       "      <td>5</td>\n",
       "      <td>Definitely recommend!</td>\n",
       "      <td>Shipped fast and on time. Phone is amazing!! I...</td>\n",
       "    </tr>\n",
       "  </tbody>\n",
       "</table>\n",
       "</div>"
      ],
      "text/plain": [
       "   Unnamed: 0  rating                                              title  \\\n",
       "0       22360       5                                         Five Stars   \n",
       "1       17557       5                                         Five Stars   \n",
       "2       36733       5                                         nice phone   \n",
       "3       47224       5  I got my Huawei Mate 10 Pro yesterday and love...   \n",
       "4       15230       5                              Definitely recommend!   \n",
       "\n",
       "                                                body  \n",
       "0                                       good product  \n",
       "1                                          Excellent  \n",
       "2                                         works fine  \n",
       "3  I got my Huawei Mate 10 Pro yesterday and love...  \n",
       "4  Shipped fast and on time. Phone is amazing!! I...  "
      ]
     },
     "execution_count": 2,
     "metadata": {},
     "output_type": "execute_result"
    }
   ],
   "source": [
    "# Load mobile review data\n",
    "df = pd.read_csv('training-dataset.csv')\n",
    "df.head()"
   ]
  },
  {
   "cell_type": "markdown",
   "metadata": {},
   "source": [
    "#  Step 2 - Cleansing data"
   ]
  },
  {
   "cell_type": "code",
   "execution_count": 3,
   "metadata": {},
   "outputs": [],
   "source": [
    "# function to perform the cleaning of data using  wordCloud corpus\n",
    "def clean_text(raw_text, remove_stopwords=False, stemming=False, split_text=False):\n",
    "    '''\n",
    "    Convert a raw review to a cleaned review\n",
    "    '''\n",
    "    text = BeautifulSoup(raw_text, 'lxml').get_text()  #remove html\n",
    "    letters_only = re.sub(\"[^a-zA-Z]\", \" \", text)  # remove non-character\n",
    "    words = letters_only.lower().split() # convert to lower case\n",
    "\n",
    "    if remove_stopwords: # remove stopword\n",
    "        stops = set(stopwords.words(\"english\"))\n",
    "        words = [w for w in words if not w in stops]\n",
    "\n",
    "    if stemming is True: # stemming\n",
    "        stemmer = SnowballStemmer('english')\n",
    "        words = [stemmer.stem(w) for w in words]\n",
    "\n",
    "    if split_text is True:  # split text\n",
    "        return words\n",
    "\n",
    "    return \" \".join(words)"
   ]
  },
  {
   "cell_type": "code",
   "execution_count": 4,
   "metadata": {},
   "outputs": [],
   "source": [
    "# function to perform tokenization\n",
    "def parse_sent(text, tokenizer, remove_stopwords=False):\n",
    "    '''\n",
    "    Parse text into sentences\n",
    "    '''\n",
    "    raw_sentences = tokenizer.tokenize(text.strip())\n",
    "    sentences = []\n",
    "    for raw_sentence in raw_sentences:\n",
    "        if len(raw_sentence) is not 0:\n",
    "            sentences.append(clean_text(raw_sentence, remove_stopwords, split_text=True))\n",
    "    return sentences"
   ]
  },
  {
   "cell_type": "markdown",
   "metadata": {},
   "source": [
    "# step 3 - Exploratory Data Analysis"
   ]
  },
  {
   "cell_type": "code",
   "execution_count": 5,
   "metadata": {},
   "outputs": [
    {
     "name": "stdout",
     "output_type": "stream",
     "text": [
      "Summary statistics of numerical features : \n",
      "          Unnamed: 0        rating\n",
      "count  50989.000000  50989.000000\n",
      "mean   34071.161211      3.804115\n",
      "std    19622.280162      1.583664\n",
      "min        1.000000      1.000000\n",
      "25%    17121.000000      3.000000\n",
      "50%    34127.000000      5.000000\n",
      "75%    51063.000000      5.000000\n",
      "max    67985.000000      5.000000\n",
      "\n",
      "Total number of reviews:  50989\n",
      "\n",
      "Percentage of reviews with neutral sentiment : 7.01%\n",
      "\n",
      "Percentage of reviews with positive sentiment : 68.40%\n",
      "\n",
      "Percentage of reviews with negative sentiment : 24.55%\n"
     ]
    }
   ],
   "source": [
    "# Summary of the data\n",
    "print(\"Summary statistics of numerical features : \\n\", df.describe())\n",
    "# Total number of reviews\n",
    "print(\"\\nTotal number of reviews: \", len(df))\n",
    "# Percentage of positive, negative and Neutral reviews\n",
    "print(\"\\nPercentage of reviews with neutral sentiment : {:.2f}%\"      \\\n",
    "      .format(df[df['rating'] == 3][\"body\"].count()/len(df)*100))\n",
    "print(\"\\nPercentage of reviews with positive sentiment : {:.2f}%\"     \\\n",
    "      .format(df[df['rating'] > 3][\"body\"].count()/len(df)*100))\n",
    "print(\"\\nPercentage of reviews with negative sentiment : {:.2f}%\"     \\\n",
    "      .format(df[df['rating'] < 3][\"body\"].count()/len(df)*100))"
   ]
  },
  {
   "cell_type": "code",
   "execution_count": 6,
   "metadata": {},
   "outputs": [
    {
     "data": {
      "text/plain": [
       "Text(0, 0.5, 'Count')"
      ]
     },
     "execution_count": 6,
     "metadata": {},
     "output_type": "execute_result"
    },
    {
     "data": {
      "image/png": "[encoded data removed]",
      "text/plain": [
       "<Figure size 864x576 with 1 Axes>"
      ]
     },
     "metadata": {
      "needs_background": "light"
     },
     "output_type": "display_data"
    }
   ],
   "source": [
    "# Drawing Bar Plot on distribution of rating\n",
    "plt.figure(figsize=(12, 8))\n",
    "df['rating'].value_counts().sort_index().plot(kind='bar')\n",
    "plt.title('Distribution of Rating')\n",
    "plt.xlabel('Rating')\n",
    "plt.ylabel('Count')"
   ]
  },
  {
   "cell_type": "code",
   "execution_count": 7,
   "metadata": {},
   "outputs": [
    {
     "data": {
      "text/plain": [
       "Text(0, 0.5, 'Count')"
      ]
     },
     "execution_count": 7,
     "metadata": {},
     "output_type": "execute_result"
    },
    {
     "data": {
      "image/png": "[encoded data removed]",
      "text/plain": [
       "<Figure size 864x576 with 1 Axes>"
      ]
     },
     "metadata": {
      "needs_background": "light"
     },
     "output_type": "display_data"
    }
   ],
   "source": [
    "# Drawing Bar Plot on distribution of review length\n",
    "REVIEW_LENGTH = df[\"body\"].dropna().map(lambda x: len(x))\n",
    "plt.figure(figsize=(12, 8))\n",
    "REVIEW_LENGTH.loc[REVIEW_LENGTH < 1500].hist()\n",
    "plt.title(\"Distribution of Review Length\")\n",
    "plt.xlabel('Review length (Number of character)')\n",
    "plt.ylabel('Count')"
   ]
  },
  {
   "cell_type": "markdown",
   "metadata": {},
   "source": [
    "# Step-4 - Data Pre-processing"
   ]
  },
  {
   "cell_type": "code",
   "execution_count": 8,
   "metadata": {},
   "outputs": [
    {
     "data": {
      "text/plain": [
       "Unnamed: 0     0\n",
       "rating         0\n",
       "title         10\n",
       "body          16\n",
       "dtype: int64"
      ]
     },
     "execution_count": 8,
     "metadata": {},
     "output_type": "execute_result"
    }
   ],
   "source": [
    "# Null values in the data\n",
    "df.isna().sum()"
   ]
  },
  {
   "cell_type": "code",
   "execution_count": 9,
   "metadata": {},
   "outputs": [],
   "source": [
    "# Drop missing values\n",
    "df.dropna(inplace=True)"
   ]
  },
  {
   "cell_type": "code",
   "execution_count": 10,
   "metadata": {},
   "outputs": [
    {
     "data": {
      "text/plain": [
       "Unnamed: 0    0\n",
       "rating        0\n",
       "title         0\n",
       "body          0\n",
       "dtype: int64"
      ]
     },
     "execution_count": 10,
     "metadata": {},
     "output_type": "execute_result"
    }
   ],
   "source": [
    "# Null values in the data\n",
    "df.isna().sum()"
   ]
  },
  {
   "cell_type": "code",
   "execution_count": 11,
   "metadata": {},
   "outputs": [
    {
     "data": {
      "text/html": [
       "<div>\n",
       "<style scoped>\n",
       "    .dataframe tbody tr th:only-of-type {\n",
       "        vertical-align: middle;\n",
       "    }\n",
       "\n",
       "    .dataframe tbody tr th {\n",
       "        vertical-align: top;\n",
       "    }\n",
       "\n",
       "    .dataframe thead th {\n",
       "        text-align: right;\n",
       "    }\n",
       "</style>\n",
       "<table border=\"1\" class=\"dataframe\">\n",
       "  <thead>\n",
       "    <tr style=\"text-align: right;\">\n",
       "      <th></th>\n",
       "      <th>Unnamed: 0</th>\n",
       "      <th>rating</th>\n",
       "      <th>title</th>\n",
       "      <th>body</th>\n",
       "      <th>sentiment</th>\n",
       "    </tr>\n",
       "  </thead>\n",
       "  <tbody>\n",
       "    <tr>\n",
       "      <th>0</th>\n",
       "      <td>22360</td>\n",
       "      <td>5</td>\n",
       "      <td>Five Stars</td>\n",
       "      <td>good product</td>\n",
       "      <td>1</td>\n",
       "    </tr>\n",
       "    <tr>\n",
       "      <th>1</th>\n",
       "      <td>17557</td>\n",
       "      <td>5</td>\n",
       "      <td>Five Stars</td>\n",
       "      <td>Excellent</td>\n",
       "      <td>1</td>\n",
       "    </tr>\n",
       "    <tr>\n",
       "      <th>2</th>\n",
       "      <td>36733</td>\n",
       "      <td>5</td>\n",
       "      <td>nice phone</td>\n",
       "      <td>works fine</td>\n",
       "      <td>1</td>\n",
       "    </tr>\n",
       "    <tr>\n",
       "      <th>3</th>\n",
       "      <td>47224</td>\n",
       "      <td>5</td>\n",
       "      <td>I got my Huawei Mate 10 Pro yesterday and love...</td>\n",
       "      <td>I got my Huawei Mate 10 Pro yesterday and love...</td>\n",
       "      <td>1</td>\n",
       "    </tr>\n",
       "    <tr>\n",
       "      <th>4</th>\n",
       "      <td>15230</td>\n",
       "      <td>5</td>\n",
       "      <td>Definitely recommend!</td>\n",
       "      <td>Shipped fast and on time. Phone is amazing!! I...</td>\n",
       "      <td>1</td>\n",
       "    </tr>\n",
       "  </tbody>\n",
       "</table>\n",
       "</div>"
      ],
      "text/plain": [
       "   Unnamed: 0  rating                                              title  \\\n",
       "0       22360       5                                         Five Stars   \n",
       "1       17557       5                                         Five Stars   \n",
       "2       36733       5                                         nice phone   \n",
       "3       47224       5  I got my Huawei Mate 10 Pro yesterday and love...   \n",
       "4       15230       5                              Definitely recommend!   \n",
       "\n",
       "                                                body  sentiment  \n",
       "0                                       good product          1  \n",
       "1                                          Excellent          1  \n",
       "2                                         works fine          1  \n",
       "3  I got my Huawei Mate 10 Pro yesterday and love...          1  \n",
       "4  Shipped fast and on time. Phone is amazing!! I...          1  "
      ]
     },
     "execution_count": 11,
     "metadata": {},
     "output_type": "execute_result"
    }
   ],
   "source": [
    "# Encode 4s and 5s as 1 (positive sentiment) and 1s, 2s and 3s as 0 (negative sentiment)\n",
    "df['sentiment'] = np.where(df['rating'] > 3, 1, 0)\n",
    "df.head()"
   ]
  },
  {
   "cell_type": "code",
   "execution_count": 12,
   "metadata": {},
   "outputs": [
    {
     "data": {
      "text/plain": [
       "<matplotlib.axes._subplots.AxesSubplot at 0x2e0f4e2c730>"
      ]
     },
     "execution_count": 12,
     "metadata": {},
     "output_type": "execute_result"
    },
    {
     "data": {
      "image/png": "[encoded data removed]",
      "text/plain": [
       "<Figure size 432x288 with 1 Axes>"
      ]
     },
     "metadata": {
      "needs_background": "light"
     },
     "output_type": "display_data"
    }
   ],
   "source": [
    "sns.countplot(x='sentiment', data=df)"
   ]
  },
  {
   "cell_type": "code",
   "execution_count": 13,
   "metadata": {},
   "outputs": [],
   "source": [
    "train_df = df[['body', 'sentiment']]"
   ]
  },
  {
   "cell_type": "code",
   "execution_count": 14,
   "metadata": {},
   "outputs": [
    {
     "name": "stdout",
     "output_type": "stream",
     "text": [
      "Show a cleaned review in the training set : \n",
      " i guess it s best to get apple certified refurbished iphones this one can t get a photo or video or even make a phone call for very long without shutting down not like a standard crash that returns you to the home screen instead the phone just powers off\n"
     ]
    }
   ],
   "source": [
    "train_clean = []\n",
    "# final sentence after performing cleansing\n",
    "for d in train_df['body']:\n",
    "    train_clean.append(clean_text(d))\n",
    "print('Show a cleaned review in the training set : \\n', train_clean[30])"
   ]
  },
  {
   "cell_type": "code",
   "execution_count": null,
   "metadata": {},
   "outputs": [],
   "source": []
  }
 ],
 "metadata": {
  "kernelspec": {
   "display_name": "Python 3",
   "language": "python",
   "name": "python3"
  },
  "language_info": {
   "codemirror_mode": {
    "name": "ipython",
    "version": 3
   },
   "file_extension": ".py",
   "mimetype": "text/x-python",
   "name": "python",
   "nbconvert_exporter": "python",
   "pygments_lexer": "ipython3",
   "version": "3.8.3"
  }
 },
 "nbformat": 4,
 "nbformat_minor": 4
}
